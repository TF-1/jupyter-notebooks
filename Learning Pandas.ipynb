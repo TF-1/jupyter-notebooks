{
 "cells": [
  {
   "cell_type": "code",
   "execution_count": 9,
   "id": "5a0891ca",
   "metadata": {},
   "outputs": [],
   "source": [
    "import pandas as pd\n",
    "import re\n",
    "from datetime import datetime"
   ]
  },
  {
   "cell_type": "code",
   "execution_count": 27,
   "id": "f9cc4d92",
   "metadata": {},
   "outputs": [
    {
     "data": {
      "text/html": [
       "<div>\n",
       "<style scoped>\n",
       "    .dataframe tbody tr th:only-of-type {\n",
       "        vertical-align: middle;\n",
       "    }\n",
       "\n",
       "    .dataframe tbody tr th {\n",
       "        vertical-align: top;\n",
       "    }\n",
       "\n",
       "    .dataframe thead th {\n",
       "        text-align: right;\n",
       "    }\n",
       "</style>\n",
       "<table border=\"1\" class=\"dataframe\">\n",
       "  <thead>\n",
       "    <tr style=\"text-align: right;\">\n",
       "      <th></th>\n",
       "      <th>Title</th>\n",
       "      <th>Invest</th>\n",
       "      <th>Date</th>\n",
       "      <th>SysID</th>\n",
       "    </tr>\n",
       "  </thead>\n",
       "  <tbody>\n",
       "    <tr>\n",
       "      <th>0</th>\n",
       "      <td>title1</td>\n",
       "      <td>computer broken</td>\n",
       "      <td>20-10-2021</td>\n",
       "      <td>450901</td>\n",
       "    </tr>\n",
       "    <tr>\n",
       "      <th>1</th>\n",
       "      <td>title2</td>\n",
       "      <td>mouse stuck</td>\n",
       "      <td>01-01-2022</td>\n",
       "      <td>450902</td>\n",
       "    </tr>\n",
       "    <tr>\n",
       "      <th>2</th>\n",
       "      <td>title3</td>\n",
       "      <td>monitor broken</td>\n",
       "      <td>03-05-2022</td>\n",
       "      <td>450943</td>\n",
       "    </tr>\n",
       "    <tr>\n",
       "      <th>3</th>\n",
       "      <td>title4</td>\n",
       "      <td>no keyboard</td>\n",
       "      <td>25-06-2022</td>\n",
       "      <td>450990</td>\n",
       "    </tr>\n",
       "  </tbody>\n",
       "</table>\n",
       "</div>"
      ],
      "text/plain": [
       "    Title           Invest        Date   SysID\n",
       "0  title1  computer broken  20-10-2021  450901\n",
       "1  title2      mouse stuck  01-01-2022  450902\n",
       "2  title3   monitor broken  03-05-2022  450943\n",
       "3  title4      no keyboard  25-06-2022  450990"
      ]
     },
     "execution_count": 27,
     "metadata": {},
     "output_type": "execute_result"
    }
   ],
   "source": [
    "data = { \n",
    "    \"Title\"  : [\"title1\", \"title2\", \"title3\", \"title4\"] ,\n",
    "    \"Invest\" : [ \"computer broken\", \"mouse stuck\", \"monitor broken\", \"no keyboard\"],\n",
    "    \"Date\"   : [ \"20-10-2021\", \"01-01-2022\", \"03-05-2022\", \"25-06-2022\"],\n",
    "    \"SysID\"  : [ 450901, 450902, 450943, 450990 ]\n",
    "}\n",
    " \n",
    "df = pd.DataFrame(data)\n",
    "df"
   ]
  },
  {
   "cell_type": "code",
   "execution_count": 32,
   "id": "900e5f60",
   "metadata": {},
   "outputs": [
    {
     "data": {
      "text/html": [
       "<div>\n",
       "<style scoped>\n",
       "    .dataframe tbody tr th:only-of-type {\n",
       "        vertical-align: middle;\n",
       "    }\n",
       "\n",
       "    .dataframe tbody tr th {\n",
       "        vertical-align: top;\n",
       "    }\n",
       "\n",
       "    .dataframe thead th {\n",
       "        text-align: right;\n",
       "    }\n",
       "</style>\n",
       "<table border=\"1\" class=\"dataframe\">\n",
       "  <thead>\n",
       "    <tr style=\"text-align: right;\">\n",
       "      <th></th>\n",
       "      <th>Title</th>\n",
       "      <th>Invest</th>\n",
       "      <th>Date</th>\n",
       "      <th>SysID</th>\n",
       "    </tr>\n",
       "  </thead>\n",
       "  <tbody>\n",
       "    <tr>\n",
       "      <th>0</th>\n",
       "      <td>title1</td>\n",
       "      <td>computer broken</td>\n",
       "      <td>2021-10-20</td>\n",
       "      <td>450901</td>\n",
       "    </tr>\n",
       "    <tr>\n",
       "      <th>1</th>\n",
       "      <td>title2</td>\n",
       "      <td>mouse stuck</td>\n",
       "      <td>2022-01-01</td>\n",
       "      <td>450902</td>\n",
       "    </tr>\n",
       "    <tr>\n",
       "      <th>2</th>\n",
       "      <td>title3</td>\n",
       "      <td>monitor broken</td>\n",
       "      <td>2022-03-05</td>\n",
       "      <td>450943</td>\n",
       "    </tr>\n",
       "  </tbody>\n",
       "</table>\n",
       "</div>"
      ],
      "text/plain": [
       "    Title           Invest       Date   SysID\n",
       "0  title1  computer broken 2021-10-20  450901\n",
       "1  title2      mouse stuck 2022-01-01  450902\n",
       "2  title3   monitor broken 2022-03-05  450943"
      ]
     },
     "execution_count": 32,
     "metadata": {},
     "output_type": "execute_result"
    }
   ],
   "source": [
    "# Build a mask based on a regex pattern and a column\n",
    "pattern1 = r'title2'\n",
    "mask1 = df['Title'].str.contains(pattern1)\n",
    "\n",
    "pattern2 = r'computer|monitor'\n",
    "mask2 = df['Invest'].str.contains(pattern2)\n",
    "\n",
    "my_date = datetime.strptime(\"01-01-2022 00:00:00\", '%d-%m-%Y %H:%M:%S')\n",
    "\n",
    "df[\"Date\"] = pd.to_datetime(df[\"Date\"], format=\"%d-%d-%Y\")\n",
    "\n",
    "\n",
    "mask3 = df['Date'] < my_date\n",
    "mask = mask1 | mask2 | mask3\n",
    "\n",
    "df[mask].head(10)"
   ]
  },
  {
   "cell_type": "code",
   "execution_count": null,
   "id": "39242468",
   "metadata": {},
   "outputs": [],
   "source": []
  }
 ],
 "metadata": {
  "kernelspec": {
   "display_name": "Python 3 (ipykernel)",
   "language": "python",
   "name": "python3"
  },
  "language_info": {
   "codemirror_mode": {
    "name": "ipython",
    "version": 3
   },
   "file_extension": ".py",
   "mimetype": "text/x-python",
   "name": "python",
   "nbconvert_exporter": "python",
   "pygments_lexer": "ipython3",
   "version": "3.10.6"
  }
 },
 "nbformat": 4,
 "nbformat_minor": 5
}
